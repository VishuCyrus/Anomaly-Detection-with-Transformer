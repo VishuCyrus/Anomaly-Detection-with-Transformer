{
  "nbformat": 4,
  "nbformat_minor": 0,
  "metadata": {
    "colab": {
      "name": "Anomaly Transformer.ipynb",
      "provenance": []
    },
    "kernelspec": {
      "name": "python3",
      "display_name": "Python 3"
    },
    "accelerator": "GPU"
  },
  "cells": [
    {
      "cell_type": "markdown",
      "metadata": {
        "id": "ioE95HxD0AIF"
      },
      "source": [
        "## Problem Statement  : \n",
        "    Anomaly detection using Transformers"
      ]
    },
    {
      "cell_type": "markdown",
      "metadata": {
        "id": "RonMwHj30P9k"
      },
      "source": [
        "NYC TAXI DATA :- Number of NYC taxi passengers, where the five anomalies occur\n",
        "during the NYC marathon, Thanksgiving, Christmas, New Years day, and a snow\n",
        "storm. The raw data is from the NYC Taxi and Limousine Commission.\n",
        "The data file included here consists of aggregating the total number of\n",
        "taxi passengers into 30 minute buckets."
      ]
    },
    {
      "cell_type": "markdown",
      "metadata": {
        "id": "znmNwhzp0tU5"
      },
      "source": [
        "Business Benefit :- Ability to detect and forecast the anomalies help reduce the cost of allocation of excess resources and help manage the sudden increase in the demand as well to make the management efficient."
      ]
    },
    {
      "cell_type": "code",
      "metadata": {
        "id": "K7bm7-UkH6kC"
      },
      "source": [
        ""
      ],
      "execution_count": 18,
      "outputs": []
    },
    {
      "cell_type": "markdown",
      "metadata": {
        "id": "dKko18hsH7aT"
      },
      "source": [
        "## Importing Required Packages"
      ]
    },
    {
      "cell_type": "code",
      "metadata": {
        "id": "XkJ7N2X4VP7_"
      },
      "source": [
        "import tensorflow as tf\n",
        "from tensorflow import keras\n",
        "from tensorflow.keras import layers\n",
        "from keras import backend as K\n",
        "import pandas as pd\n",
        "import numpy as np\n",
        "import json\n",
        "from sklearn import preprocessing\n",
        "from pathlib import Path\n",
        "import os\n",
        "import matplotlib.pyplot as plt\n",
        "from shutil import copyfile\n",
        "import pickle\n",
        "from datetime import datetime\n",
        "import random"
      ],
      "execution_count": 19,
      "outputs": []
    },
    {
      "cell_type": "markdown",
      "metadata": {
        "id": "nT_PsJSIAvVS"
      },
      "source": [
        "## Load Data and Visualize \n"
      ]
    },
    {
      "cell_type": "code",
      "metadata": {
        "id": "k_HjIs_wAgCe"
      },
      "source": [
        ""
      ],
      "execution_count": 19,
      "outputs": []
    },
    {
      "cell_type": "markdown",
      "metadata": {
        "id": "C8Pyi_eVJAyP"
      },
      "source": [
        "NYC Taxi Data\n"
      ]
    },
    {
      "cell_type": "code",
      "metadata": {
        "id": "HMZx9TDwAgN8"
      },
      "source": [
        "with open('combined_windows.json') as f:\n",
        "    j_label = json.load(f)\n",
        "j_label = {x.replace('/', '_'):y for x,y in j_label.items()}"
      ],
      "execution_count": 20,
      "outputs": []
    },
    {
      "cell_type": "code",
      "metadata": {
        "id": "SfxyDQSnAf_M"
      },
      "source": [
        "def read_data(data_path=None):\n",
        "    key = data_path.name\n",
        "    ano_spans = j_label[key]\n",
        "    ano_span_count = len(ano_spans)\n",
        "    df_x = pd.read_csv(data_path)\n",
        "    df_x, df_y = assign_ano(ano_spans, df_x)\n",
        "\n",
        "    return df_x, df_y\n",
        "\n",
        "def assign_ano(ano_spans=None, df_x=None):\n",
        "    df_x['timestamp'] = pd.to_datetime(df_x['timestamp'])\n",
        "    y = np.zeros(len(df_x))\n",
        "    for ano_span in ano_spans:\n",
        "        ano_start = pd.to_datetime(ano_span[0])\n",
        "        ano_end = pd.to_datetime(ano_span[1])\n",
        "        for idx in df_x.index:\n",
        "            if df_x.loc[idx, 'timestamp'] >= ano_start and df_x.loc[idx, 'timestamp'] <= ano_end:\n",
        "                y[idx] = 1.0\n",
        "                \n",
        "    return df_x, pd.DataFrame(y)\n"
      ],
      "execution_count": 21,
      "outputs": []
    },
    {
      "cell_type": "code",
      "metadata": {
        "id": "j1wuzcQ-JbS5"
      },
      "source": [
        "df_x, df_y = read_data(Path('realKnownCause_nyc_taxi.csv'))"
      ],
      "execution_count": 22,
      "outputs": []
    },
    {
      "cell_type": "code",
      "metadata": {
        "id": "TnqYJnt1Jbbm"
      },
      "source": [
        "hrs = ['hours_' + str(i) for i in range(24)]\n",
        "dow = ['DayOfTheWeek_' + str(i) for i in range(7)]\n",
        "wkd = ['WeekDay_' + str(i) for i in range(2)]\n",
        "daylight = ['daylight_' + str(i) for i in range(2)]\n",
        "wk = ['Week_' + str(i) for i in range(53)]\n",
        "times = [hrs, dow, wkd, daylight, wk]"
      ],
      "execution_count": 23,
      "outputs": []
    },
    {
      "cell_type": "code",
      "metadata": {
        "id": "KSM4a9UcJbYB"
      },
      "source": [
        "def prep(dfx):\n",
        "    df = dfx.copy()\n",
        "    scaler = preprocessing.StandardScaler()\n",
        "    df['hours'] = df['timestamp'].dt.hour\n",
        "    df['daylight'] = ((df['hours'] >= 7) & (df['hours'] <= 22)).astype(int)\n",
        "    df['hours'] = df['hours'].astype(str)\n",
        "    df['daylight'] = df['daylight'].astype(str)\n",
        "    # the day of the week (Monday=0, Sunday=6) and if it's a week end day or week day.\n",
        "    df['DayOfTheWeek'] = df['timestamp'].dt.dayofweek\n",
        "    df['WeekDay'] = (df['DayOfTheWeek'] < 5).astype(int)\n",
        "    df['DayOfTheWeek'] = df['DayOfTheWeek'].astype(str)\n",
        "    df['WeekDay'] = df['WeekDay'].astype(str)\n",
        "\n",
        "    # the week of the year\n",
        "    df['Week'] = df['timestamp'].dt.week\n",
        "    df['Week'] = df['Week'].astype(str)\n",
        "\n",
        "    df['value'] = scaler.fit_transform(df[['value']])\n",
        "    df['timestamp'] = df['timestamp'].astype(np.int64)\n",
        "    df = pd.get_dummies(df) \n",
        "    c = df.columns.tolist()\n",
        "    for t in times:\n",
        "        for i in t:\n",
        "            if i not in c:\n",
        "                df[i] = 0\n",
        "    \n",
        "    return df, scaler"
      ],
      "execution_count": 24,
      "outputs": []
    },
    {
      "cell_type": "code",
      "metadata": {
        "id": "oVEPBzNnJbQP",
        "outputId": "2e71672b-03f9-4396-f564-a50d7b189a87",
        "colab": {
          "base_uri": "https://localhost:8080/"
        }
      },
      "source": [
        "df_x2, scaler = prep(df_x)"
      ],
      "execution_count": 25,
      "outputs": [
        {
          "output_type": "stream",
          "text": [
            "/usr/local/lib/python3.6/dist-packages/ipykernel_launcher.py:15: FutureWarning: Series.dt.weekofyear and Series.dt.week have been deprecated.  Please use Series.dt.isocalendar().week instead.\n",
            "  from ipykernel import kernelapp as app\n"
          ],
          "name": "stderr"
        }
      ]
    },
    {
      "cell_type": "code",
      "metadata": {
        "id": "_6bgy5R3Jobz"
      },
      "source": [
        "df_x2['timestamp'] /= 1e10"
      ],
      "execution_count": 26,
      "outputs": []
    },
    {
      "cell_type": "code",
      "metadata": {
        "id": "sVhEdGGAL7F8"
      },
      "source": [
        "#df_x2.head()"
      ],
      "execution_count": 27,
      "outputs": []
    },
    {
      "cell_type": "code",
      "metadata": {
        "id": "yrFeKRAaL7DZ"
      },
      "source": [
        "# create sequences \n",
        "def unroll(data, labels, window_length=None, stride=1):\n",
        "    un_data = []\n",
        "    un_labels = []\n",
        "    seq_len = int(window_length) if window_length else min(30, int(len(data)*.01))\n",
        "    stride = int(stride)\n",
        "    idx = 0\n",
        "    while(idx < len(data) - seq_len):\n",
        "        un_data.append(np.array(data.iloc[idx:idx+seq_len]))\n",
        "        un_labels.append(np.array(labels.iloc[idx:idx+seq_len]))\n",
        "        idx += stride\n",
        "    return np.array(un_data), np.squeeze(np.array(un_labels)), seq_len"
      ],
      "execution_count": 28,
      "outputs": []
    },
    {
      "cell_type": "code",
      "metadata": {
        "id": "ukGDBM--1MCk"
      },
      "source": [
        "wl = 100\n",
        "ml = 7"
      ],
      "execution_count": 76,
      "outputs": []
    },
    {
      "cell_type": "code",
      "metadata": {
        "id": "2y7KCS2N1xQF"
      },
      "source": [
        "def data_prep(df_x2, df_y, wl, ml):\n",
        "  a,b,seq_len = unroll(df_x2, df_y, wl)\n",
        "  indx1 = [i for i in range(len(b)) if sum(b[i])>0]\n",
        "  indx2 = [i for i in range(len(b)) if sum(b[i])==0]\n",
        "  random.shuffle(indx1)\n",
        "  random.shuffle(indx2)\n",
        "  l = len(indx1) ; m = len(indx2)\n",
        "  m = ml*l\n",
        "  trn, val, tst = indx1[:l//2] + indx2[:m//2], indx1[l//2:-l//4] + indx2[m//2:-m//4], indx1[-l//4:] + indx2[-m//4:]\n",
        "  return a[trn] , a[val] , a[tst] , b[trn] , b[val] , b[tst]"
      ],
      "execution_count": 77,
      "outputs": []
    },
    {
      "cell_type": "code",
      "metadata": {
        "id": "6WMYrVISM5IV"
      },
      "source": [
        "  trn_x , val_x, tst_x, trn_y , val_y , tst_y  = data_prep(df_x2, df_y, wl, ml)\n"
      ],
      "execution_count": 78,
      "outputs": []
    },
    {
      "cell_type": "code",
      "metadata": {
        "id": "3vSNUkefSbyQ"
      },
      "source": [
        "a,b,seq_len = unroll(df_x2, df_y, wl)"
      ],
      "execution_count": 162,
      "outputs": []
    },
    {
      "cell_type": "markdown",
      "metadata": {
        "id": "sEjn0WC_JRlT"
      },
      "source": [
        "### Data Viz "
      ]
    },
    {
      "cell_type": "markdown",
      "metadata": {
        "id": "V6kbqnUY1mMK"
      },
      "source": [
        "NYC Taxi Data "
      ]
    },
    {
      "cell_type": "code",
      "metadata": {
        "id": "G4jS21ZhJQ2U",
        "outputId": "90c80969-8717-4bbb-adee-0a5f1150e6db",
        "colab": {
          "base_uri": "https://localhost:8080/",
          "height": 376
        }
      },
      "source": [
        "# change the type of timestamp column for plotting\n",
        "\n",
        "# visualisation of anomaly throughout time (viz 1)\n",
        "fig, ax = plt.subplots(figsize=(12, 5))\n",
        "\n",
        "ax.plot(df_x['timestamp'], df_x['value'], color='blue', linewidth=0.6)\n",
        "ax.set_title('NYC taxi passengers throughout time')\n",
        "\n",
        "plt.xlabel('datetime')\n",
        "plt.xticks(rotation=45) \n",
        "plt.ylabel('The Number of NYC taxi passengers')\n",
        "plt.show()"
      ],
      "execution_count": 32,
      "outputs": [
        {
          "output_type": "display_data",
          "data": {
            "image/png": "[encoded data removed]",
            "text/plain": [
              "<Figure size 864x360 with 1 Axes>"
            ]
          },
          "metadata": {
            "tags": [],
            "needs_background": "light"
          }
        }
      ]
    },
    {
      "cell_type": "code",
      "metadata": {
        "id": "abWKTXjCJQzF"
      },
      "source": [
        ""
      ],
      "execution_count": 11,
      "outputs": []
    },
    {
      "cell_type": "markdown",
      "metadata": {
        "id": "2Ou65RQ_1s6u"
      },
      "source": [
        "Anomaly Visualization "
      ]
    },
    {
      "cell_type": "code",
      "metadata": {
        "id": "SlZt0VLYJQw5"
      },
      "source": [
        "anom = j_label['realKnownCause_nyc_taxi.csv']"
      ],
      "execution_count": 35,
      "outputs": []
    },
    {
      "cell_type": "code",
      "metadata": {
        "id": "hl15yiL35EtT"
      },
      "source": [
        "start = df_x[df_x['timestamp']==anom[0][0]].index[0]\n",
        "end = df_x[df_x['timestamp']==anom[0][1]].index[0]\n"
      ],
      "execution_count": 49,
      "outputs": []
    },
    {
      "cell_type": "code",
      "metadata": {
        "id": "iusuccNo39nN"
      },
      "source": [
        "ano_df = df_x[start:end]\n",
        "ano_df_win = df_x[start-wl:end+wl]"
      ],
      "execution_count": 57,
      "outputs": []
    },
    {
      "cell_type": "code",
      "metadata": {
        "id": "zH0eSjTM39jJ",
        "outputId": "32137c9a-c6ae-45c9-bfa9-464216a1c8bf",
        "colab": {
          "base_uri": "https://localhost:8080/",
          "height": 388
        }
      },
      "source": [
        "# change the type of timestamp column for plotting\n",
        "\n",
        "# visualisation of anomaly throughout time (viz 1)\n",
        "fig, ax = plt.subplots(figsize=(12, 5))\n",
        "\n",
        "ax.plot(ano_df['timestamp'], ano_df['value'], color='black', linewidth=0.6)\n",
        "ax.plot(ano_df_win['timestamp'], ano_df_win['value'], color='blue', linewidth=0.6)\n",
        "ax.set_title('NYC taxi passengers throughout time')\n",
        "\n",
        "plt.xlabel('datetime')\n",
        "plt.xticks(rotation=45) \n",
        "plt.ylabel('The Number of NYC taxi passengers')\n",
        "plt.show()"
      ],
      "execution_count": 60,
      "outputs": [
        {
          "output_type": "display_data",
          "data": {
            "image/png": "[encoded data removed]",
            "text/plain": [
              "<Figure size 864x360 with 1 Axes>"
            ]
          },
          "metadata": {
            "tags": [],
            "needs_background": "light"
          }
        }
      ]
    },
    {
      "cell_type": "code",
      "metadata": {
        "id": "qsX2lEh95gTD"
      },
      "source": [
        ""
      ],
      "execution_count": null,
      "outputs": []
    },
    {
      "cell_type": "code",
      "metadata": {
        "id": "iTFvSKkd5gPO"
      },
      "source": [
        ""
      ],
      "execution_count": null,
      "outputs": []
    },
    {
      "cell_type": "markdown",
      "metadata": {
        "id": "WCYteq1JIVyQ"
      },
      "source": [
        "## Implement Transformer Model"
      ]
    },
    {
      "cell_type": "markdown",
      "metadata": {
        "id": "EAY_RTDwAP8W"
      },
      "source": [
        "### Implement multi head self attention as a Keras layer\n",
        "\n",
        "\n"
      ]
    },
    {
      "cell_type": "code",
      "metadata": {
        "id": "or4WShEAINia"
      },
      "source": [
        ""
      ],
      "execution_count": 11,
      "outputs": []
    },
    {
      "cell_type": "code",
      "metadata": {
        "id": "0fiDPYrFAAgC"
      },
      "source": [
        "\n",
        "class MultiHeadSelfAttention(layers.Layer):\n",
        "    def __init__(self, embed_dim, num_heads=8):\n",
        "        super(MultiHeadSelfAttention, self).__init__()\n",
        "        self.embed_dim = embed_dim\n",
        "        self.num_heads = num_heads\n",
        "        if embed_dim % num_heads != 0:\n",
        "            raise ValueError(\n",
        "                f\"embedding dimension = {embed_dim} should be divisible by number of heads = {num_heads}\"\n",
        "            )\n",
        "        self.projection_dim = embed_dim // num_heads\n",
        "        self.query_dense = layers.Dense(embed_dim)\n",
        "        self.key_dense = layers.Dense(embed_dim)\n",
        "        self.value_dense = layers.Dense(embed_dim)\n",
        "        self.combine_heads = layers.Dense(embed_dim)\n",
        "\n",
        "    def attention(self, query, key, value):\n",
        "        score = tf.matmul(query, key, transpose_b=True)\n",
        "        dim_key = tf.cast(tf.shape(key)[-1], tf.float32)\n",
        "        scaled_score = score / tf.math.sqrt(dim_key)\n",
        "        weights = tf.nn.softmax(scaled_score, axis=-1)\n",
        "        output = tf.matmul(weights, value)\n",
        "        return output, weights\n",
        "\n",
        "    def separate_heads(self, x, batch_size):\n",
        "        x = tf.reshape(x, (batch_size, -1, self.num_heads, self.projection_dim))\n",
        "        return tf.transpose(x, perm=[0, 2, 1, 3])\n",
        "\n",
        "    def call(self, inputs):\n",
        "        # x.shape = [batch_size, seq_len, embedding_dim]\n",
        "        batch_size = tf.shape(inputs)[0]\n",
        "        query = self.query_dense(inputs)  # (batch_size, seq_len, embed_dim)\n",
        "        key = self.key_dense(inputs)  # (batch_size, seq_len, embed_dim)\n",
        "        value = self.value_dense(inputs)  # (batch_size, seq_len, embed_dim)\n",
        "        query = self.separate_heads(\n",
        "            query, batch_size\n",
        "        )  # (batch_size, num_heads, seq_len, projection_dim)\n",
        "        key = self.separate_heads(\n",
        "            key, batch_size\n",
        "        )  # (batch_size, num_heads, seq_len, projection_dim)\n",
        "        value = self.separate_heads(\n",
        "            value, batch_size\n",
        "        )  # (batch_size, num_heads, seq_len, projection_dim)\n",
        "        attention, weights = self.attention(query, key, value)\n",
        "        attention = tf.transpose(\n",
        "            attention, perm=[0, 2, 1, 3]\n",
        "        )  # (batch_size, seq_len, num_heads, projection_dim)\n",
        "        concat_attention = tf.reshape(\n",
        "            attention, (batch_size, -1, self.embed_dim)\n",
        "        )  # (batch_size, seq_len, embed_dim)\n",
        "        output = self.combine_heads(\n",
        "            concat_attention\n",
        "        )  # (batch_size, seq_len, embed_dim)\n",
        "        return output\n",
        "\n"
      ],
      "execution_count": 12,
      "outputs": []
    },
    {
      "cell_type": "code",
      "metadata": {
        "id": "7Ljd3xNuAVAU"
      },
      "source": [
        ""
      ],
      "execution_count": 12,
      "outputs": []
    },
    {
      "cell_type": "markdown",
      "metadata": {
        "id": "IzgJK8BKAVZP"
      },
      "source": [
        "### Implement a Transformer block as a layer\n",
        "\n"
      ]
    },
    {
      "cell_type": "code",
      "metadata": {
        "id": "pGYJIIKZATrW"
      },
      "source": [
        "\n",
        "class TransformerBlock(layers.Layer):\n",
        "    def __init__(self, embed_dim, num_heads, ff_dim, rate=0.1):\n",
        "        super(TransformerBlock, self).__init__()\n",
        "        self.att = MultiHeadSelfAttention(embed_dim, num_heads)\n",
        "        self.ffn = keras.Sequential(\n",
        "            [layers.Dense(ff_dim, activation=\"relu\"), layers.Dense(embed_dim),]\n",
        "        )\n",
        "        self.layernorm1 = layers.LayerNormalization(epsilon=1e-6)\n",
        "        self.layernorm2 = layers.LayerNormalization(epsilon=1e-6)\n",
        "        self.dropout1 = layers.Dropout(rate)\n",
        "        self.dropout2 = layers.Dropout(rate)\n",
        "\n",
        "    def call(self, inputs, training):\n",
        "        attn_output = self.att(inputs)\n",
        "        attn_output = self.dropout1(attn_output, training=training)\n",
        "        out1 = self.layernorm1(inputs + attn_output)\n",
        "        ffn_output = self.ffn(out1)\n",
        "        ffn_output = self.dropout2(ffn_output, training=training)\n",
        "        return self.layernorm2(out1 + ffn_output)\n",
        "\n"
      ],
      "execution_count": 13,
      "outputs": []
    },
    {
      "cell_type": "code",
      "metadata": {
        "id": "6nDTPeguAcTl"
      },
      "source": [
        ""
      ],
      "execution_count": 13,
      "outputs": []
    },
    {
      "cell_type": "markdown",
      "metadata": {
        "id": "vDs0JojYAzH4"
      },
      "source": [
        "## Build Model\n"
      ]
    },
    {
      "cell_type": "code",
      "metadata": {
        "id": "E-USaF4qB4VB"
      },
      "source": [
        "\n",
        "embed_dim = 90  # Feature size for each TS\n",
        "num_heads = 5  # Number of attention heads\n",
        "ff_dim = 8 # Hidden layer size in feed forward network inside transformer\n",
        "d_dim = 40\n",
        "dropout_rate = 0.4\n",
        "sl = wl\n"
      ],
      "execution_count": 144,
      "outputs": []
    },
    {
      "cell_type": "code",
      "metadata": {
        "id": "aAf7de6Fj8_X"
      },
      "source": [
        "# hyper_params = {'num_heads':[1,2,5,9,10],\n",
        "#                 'ff_dim' : [2,4,8,16,20,24,32,40],\n",
        "#                 'd_dim': [2,3,4,5,6,7,8,9],\n",
        "#                 'dropout_rate' : [.1, .2, .3, .4, .5, .6, .7, .8],\n",
        "#                 'sl' : [5,10,20,50,80,100,200,500],\n",
        "#                 'ml' : [2,5,8]\n",
        "#                 }"
      ],
      "execution_count": 145,
      "outputs": []
    },
    {
      "cell_type": "code",
      "metadata": {
        "id": "iExJMHthgFwJ"
      },
      "source": [
        "### Metrics Definition  ###\n",
        "\n",
        "def recall(y_true, y_pred):\n",
        "    true_positives = K.sum(K.round(K.clip(y_true * y_pred, 0, 1)))\n",
        "    possible_positives = K.sum(K.round(K.clip(y_true, 0, 1)))\n",
        "    recall = true_positives / (possible_positives + K.epsilon())\n",
        "    return recall\n",
        "\n",
        "def precision(y_true, y_pred):\n",
        "    true_positives = K.sum(K.round(K.clip(y_true * y_pred, 0, 1)))\n",
        "    predicted_positives = K.sum(K.round(K.clip(y_pred, 0, 1)))\n",
        "    precision = true_positives / (predicted_positives + K.epsilon())\n",
        "    return precision\n",
        "\n",
        "def f1(y_true, y_pred):\n",
        "    prec = precision(y_true, y_pred)\n",
        "    rec = recall(y_true, y_pred)\n",
        "    return 2*((prec*rec)/(prec+rec+K.epsilon()))\n"
      ],
      "execution_count": 147,
      "outputs": []
    },
    {
      "cell_type": "code",
      "metadata": {
        "id": "JVQnmfI7_6q4"
      },
      "source": [
        "def f1_loss(y_true, y_pred):\n",
        "    \n",
        "    tp = K.sum(K.cast(y_true*y_pred, 'float'), axis=0)\n",
        "    tn = K.sum(K.cast((1-y_true)*(1-y_pred), 'float'), axis=0)\n",
        "    fp = K.sum(K.cast((1-y_true)*y_pred, 'float'), axis=0)\n",
        "    fn = K.sum(K.cast(y_true*(1-y_pred), 'float'), axis=0)\n",
        "\n",
        "    p = tp / (tp + fp + K.epsilon())\n",
        "    r = tp / (tp + fn + K.epsilon())\n",
        "\n",
        "    f1 = 2*p*r / (p+r+K.epsilon())\n",
        "    f1 = tf.where(tf.math.is_nan(f1), tf.zeros_like(f1), f1)\n",
        "    return 1 - K.mean(f1) + 0.02*tf.keras.losses.BinaryCrossentropy(from_logits=False, label_smoothing=0, reduction=\"auto\")(y_true, y_pred)"
      ],
      "execution_count": 156,
      "outputs": []
    },
    {
      "cell_type": "code",
      "metadata": {
        "id": "pt49Uf5zA3Ac"
      },
      "source": [
        "def m(embed_dim, num_heads, ff_dim, d_dim, dropout_rate, seq_len):\n",
        "  inputs = layers.Input(shape=(seq_len,embed_dim))\n",
        "  transformer_block = TransformerBlock(embed_dim, num_heads, ff_dim, dropout_rate)\n",
        "  x = transformer_block(inputs)\n",
        "  x = layers.Dropout(dropout_rate)(x)\n",
        "  x = layers.Dense(d_dim, activation=\"relu\")(x)\n",
        "  x = layers.Dropout(dropout_rate)(x)\n",
        "  outputs = layers.Dense(1, activation='sigmoid')(x)\n",
        "  model = keras.Model(inputs=inputs, outputs=outputs)\n",
        "  ###   Compile the model   ###\n",
        "  model.compile(optimizer='adam', loss=f1_loss, metrics=['acc',f1,precision, recall])\n",
        "  return model\n",
        "\n",
        "model = m(embed_dim, num_heads, ff_dim, d_dim, dropout_rate, wl)"
      ],
      "execution_count": 157,
      "outputs": []
    },
    {
      "cell_type": "code",
      "metadata": {
        "id": "ZTWFWdtMEQ8G",
        "outputId": "ae654473-5c2c-4fb7-f423-4f96d01b1321",
        "colab": {
          "base_uri": "https://localhost:8080/"
        }
      },
      "source": [
        "model.summary()"
      ],
      "execution_count": 158,
      "outputs": [
        {
          "output_type": "stream",
          "text": [
            "Model: \"functional_31\"\n",
            "_________________________________________________________________\n",
            "Layer (type)                 Output Shape              Param #   \n",
            "=================================================================\n",
            "input_16 (InputLayer)        [(None, 100, 90)]         0         \n",
            "_________________________________________________________________\n",
            "transformer_block_15 (Transf (None, 100, 90)           34658     \n",
            "_________________________________________________________________\n",
            "dropout_62 (Dropout)         (None, 100, 90)           0         \n",
            "_________________________________________________________________\n",
            "dense_126 (Dense)            (None, 100, 40)           3640      \n",
            "_________________________________________________________________\n",
            "dropout_63 (Dropout)         (None, 100, 40)           0         \n",
            "_________________________________________________________________\n",
            "dense_127 (Dense)            (None, 100, 1)            41        \n",
            "=================================================================\n",
            "Total params: 38,339\n",
            "Trainable params: 38,339\n",
            "Non-trainable params: 0\n",
            "_________________________________________________________________\n"
          ],
          "name": "stdout"
        }
      ]
    },
    {
      "cell_type": "code",
      "metadata": {
        "id": "hmiXhoNmA2-N",
        "outputId": "114ae684-b8b4-490e-9eee-0517f91e6553",
        "colab": {
          "base_uri": "https://localhost:8080/"
        }
      },
      "source": [
        "history = model.fit(\n",
        "    a, b, batch_size=64, epochs=10, validation_data=(val_x, val_y)\n",
        ")"
      ],
      "execution_count": 163,
      "outputs": [
        {
          "output_type": "stream",
          "text": [
            "Epoch 1/10\n",
            "160/160 [==============================] - 2s 12ms/step - loss: 0.8473 - acc: 0.1100 - f1: 0.1821 - precision: 0.1013 - recall: 0.9895 - val_loss: 0.7827 - val_acc: 0.2518 - val_f1: 0.2857 - val_precision: 0.2405 - val_recall: 0.3529\n",
            "Epoch 2/10\n",
            "160/160 [==============================] - 2s 11ms/step - loss: 0.8474 - acc: 0.1060 - f1: 0.1819 - precision: 0.1012 - recall: 0.9938 - val_loss: 0.7815 - val_acc: 0.2518 - val_f1: 0.2857 - val_precision: 0.2405 - val_recall: 0.3529\n",
            "Epoch 3/10\n",
            "160/160 [==============================] - 2s 11ms/step - loss: 0.8470 - acc: 0.1061 - f1: 0.1822 - precision: 0.1013 - recall: 0.9943 - val_loss: 0.7806 - val_acc: 0.2518 - val_f1: 0.2857 - val_precision: 0.2405 - val_recall: 0.3529\n",
            "Epoch 4/10\n",
            "160/160 [==============================] - 2s 12ms/step - loss: 0.8476 - acc: 0.1073 - f1: 0.1817 - precision: 0.1012 - recall: 0.9926 - val_loss: 0.7770 - val_acc: 0.2518 - val_f1: 0.2857 - val_precision: 0.2405 - val_recall: 0.3529\n",
            "Epoch 5/10\n",
            "160/160 [==============================] - 2s 12ms/step - loss: 0.8471 - acc: 0.1041 - f1: 0.1823 - precision: 0.1013 - recall: 0.9965 - val_loss: 0.7838 - val_acc: 0.2518 - val_f1: 0.2857 - val_precision: 0.2405 - val_recall: 0.3529\n",
            "Epoch 6/10\n",
            "160/160 [==============================] - 2s 11ms/step - loss: 0.8473 - acc: 0.1030 - f1: 0.1821 - precision: 0.1013 - recall: 0.9978 - val_loss: 0.7855 - val_acc: 0.2518 - val_f1: 0.2857 - val_precision: 0.2405 - val_recall: 0.3529\n",
            "Epoch 7/10\n",
            "160/160 [==============================] - 2s 11ms/step - loss: 0.8472 - acc: 0.1021 - f1: 0.1821 - precision: 0.1012 - recall: 0.9988 - val_loss: 0.7807 - val_acc: 0.2518 - val_f1: 0.2857 - val_precision: 0.2405 - val_recall: 0.3529\n",
            "Epoch 8/10\n",
            "160/160 [==============================] - 2s 11ms/step - loss: 0.8475 - acc: 0.1018 - f1: 0.1823 - precision: 0.1015 - recall: 0.9994 - val_loss: 0.7827 - val_acc: 0.2518 - val_f1: 0.2857 - val_precision: 0.2405 - val_recall: 0.3529\n",
            "Epoch 9/10\n",
            "160/160 [==============================] - 2s 11ms/step - loss: 0.8471 - acc: 0.1016 - f1: 0.1823 - precision: 0.1012 - recall: 0.9996 - val_loss: 0.7832 - val_acc: 0.2518 - val_f1: 0.2857 - val_precision: 0.2405 - val_recall: 0.3529\n",
            "Epoch 10/10\n",
            "160/160 [==============================] - 2s 11ms/step - loss: 0.8470 - acc: 0.1018 - f1: 0.1822 - precision: 0.1012 - recall: 0.9994 - val_loss: 0.7798 - val_acc: 0.2518 - val_f1: 0.2857 - val_precision: 0.2405 - val_recall: 0.3529\n"
          ],
          "name": "stdout"
        }
      ]
    },
    {
      "cell_type": "code",
      "metadata": {
        "id": "CZ_mTx9ulP1p"
      },
      "source": [
        ""
      ],
      "execution_count": 159,
      "outputs": []
    },
    {
      "cell_type": "markdown",
      "metadata": {
        "id": "_V8Vm5LH3Ol0"
      },
      "source": [
        "## Test the model and Vizualize Results"
      ]
    },
    {
      "cell_type": "code",
      "metadata": {
        "id": "SYHvC-MUlPyU",
        "outputId": "0165e89a-3b2b-40da-fbcb-f02adbf8ce3e",
        "colab": {
          "base_uri": "https://localhost:8080/"
        }
      },
      "source": [
        "model.evaluate(tst_x, tst_y)"
      ],
      "execution_count": 161,
      "outputs": [
        {
          "output_type": "stream",
          "text": [
            "96/96 [==============================] - 1s 5ms/step - loss: 0.9402 - acc: 0.0852 - f1: 0.1008 - precision: 0.0849 - recall: 0.1250\n"
          ],
          "name": "stdout"
        },
        {
          "output_type": "execute_result",
          "data": {
            "text/plain": [
              "[0.9402163624763489,\n",
              " 0.0851747915148735,\n",
              " 0.10080515593290329,\n",
              " 0.08486980199813843,\n",
              " 0.125]"
            ]
          },
          "metadata": {
            "tags": []
          },
          "execution_count": 161
        }
      ]
    },
    {
      "cell_type": "code",
      "metadata": {
        "id": "PqEiyc9-lPwD"
      },
      "source": [
        ""
      ],
      "execution_count": 117,
      "outputs": []
    },
    {
      "cell_type": "code",
      "metadata": {
        "id": "SF3lir203TTx"
      },
      "source": [
        ""
      ],
      "execution_count": null,
      "outputs": []
    },
    {
      "cell_type": "markdown",
      "metadata": {
        "id": "Dy4Awe9N3T-i"
      },
      "source": [
        "## Conclusion and Future Scope"
      ]
    },
    {
      "cell_type": "markdown",
      "metadata": {
        "id": "fIQwrzcFclrf"
      },
      "source": [
        "Successfully used transformer concept and architecture to model the time series data in order to identify the anomalies in the NYC taxi data.​\n",
        "\n",
        "​\n",
        "\n",
        "However, the performance of the model is not acceptable at this point of time as Vanilla architecture Transformer has been used.​\n",
        "\n",
        "​\n",
        "\n",
        "More complex transformer architectures in combination with LSTM and bidirectional RNNs can be used to improve performance.​\n",
        "\n",
        "​\n",
        "\n",
        "Hyperparameter tuning could also be implemented to improve the model."
      ]
    },
    {
      "cell_type": "code",
      "metadata": {
        "id": "A8FQsHiE3TPq"
      },
      "source": [
        ""
      ],
      "execution_count": null,
      "outputs": []
    },
    {
      "cell_type": "markdown",
      "metadata": {
        "id": "C0-nVt2T3fb7"
      },
      "source": [
        "## Grid Search For Model Tuning"
      ]
    },
    {
      "cell_type": "code",
      "metadata": {
        "id": "OzGPve8GOYAe"
      },
      "source": [
        "# ###  GRID SEARCH FOR BEST HYPER-PARAMS  ###\n",
        "# embed_dim = 90\n",
        "# hs = []\n",
        "# hps = []\n",
        "# for i in range(10):\n",
        "#   hp = random.choice(hyper_params['sl']), random.choice(hyper_params['ml']), random.choice(hyper_params['num_heads']), random.choice(hyper_params['ff_dim']), random.choice(hyper_params['d_dim']), random.choice(hyper_params['dropout_rate'])\n",
        "\n",
        "#   hps.append(hp)\n",
        "\n",
        "#   trn_x , val_x, tst_x, trn_y , val_y , tst_y  = data_prep(df_x2, df_y, hp[0], hp[1])\n",
        "\n",
        "#   model = m(embed_dim , hp[2], hp[3], hp[4], hp[5], hp[0])\n",
        "\n",
        "#   history = model.fit(trn_x, trn_y, batch_size=100, epochs=50, validation_data=(val_x, val_y) , verbose=0)\n",
        "  \n",
        "#   hs.append(history)\n",
        "#   print(i)\n"
      ],
      "execution_count": null,
      "outputs": []
    },
    {
      "cell_type": "code",
      "metadata": {
        "id": "QqiTXYSYOYGO"
      },
      "source": [
        "# val_f1_s = [h.history['val_f1'] for h in hs]\n",
        "# val_f1_best = max(val_f1_s)"
      ],
      "execution_count": null,
      "outputs": []
    },
    {
      "cell_type": "code",
      "metadata": {
        "id": "_IOYuGxKtl11"
      },
      "source": [
        "#hps[val_f1_s.index(val_f1_best)]"
      ],
      "execution_count": null,
      "outputs": []
    },
    {
      "cell_type": "code",
      "metadata": {
        "id": "qvfK83ywOX9l"
      },
      "source": [
        "#val_f1_best"
      ],
      "execution_count": null,
      "outputs": []
    },
    {
      "cell_type": "code",
      "metadata": {
        "id": "9DP4UJX87fYa"
      },
      "source": [
        "(50, 2, 2, 24, 3, 0.2)\n",
        "(5, 2, 9, 40, 8, 0.1)\n"
      ],
      "execution_count": null,
      "outputs": []
    },
    {
      "cell_type": "code",
      "metadata": {
        "id": "p9nKvx9fHf1a"
      },
      "source": [
        ""
      ],
      "execution_count": null,
      "outputs": []
    }
  ]
}